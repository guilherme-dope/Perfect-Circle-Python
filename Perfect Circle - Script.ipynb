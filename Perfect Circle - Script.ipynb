{
 "cells": [
  {
   "cell_type": "code",
   "execution_count": 26,
   "id": "8466a98d",
   "metadata": {},
   "outputs": [
    {
     "name": "stdout",
     "output_type": "stream",
     "text": [
      "Pressione 'f' para iniciar desenho\n",
      "Iniciando desenho\n"
     ]
    }
   ],
   "source": [
    "import pyautogui\n",
    "import math\n",
    "import keyboard\n",
    "import time\n",
    "\n",
    "\n",
    "#https://neal.fun/perfect-circle/\n",
    "\n",
    "\n",
    "# Num_points = numero de pontos que constroem o circulo. + pontos = menor velocidade.\n",
    "def draw_circle(center_x, center_y, radius, num_points=60):\n",
    "    points = []\n",
    "    for i in range(num_points):\n",
    "        angle = (i / num_points) * 2 * math.pi\n",
    "        x = center_x + radius * math.cos(angle)\n",
    "        y = center_y + radius * math.sin(angle)\n",
    "        points.append((x, y))\n",
    "    \n",
    "    pyautogui.moveTo(points[0])\n",
    "    pyautogui.mouseDown()\n",
    "    for point in points:\n",
    "        pyautogui.moveTo(point)\n",
    "    pyautogui.mouseUp()\n",
    "\n",
    "def wait_for_start_key(key):\n",
    "    print(f\"Pressione '{key}' para iniciar desenho\")\n",
    "    while True:\n",
    "        if keyboard.is_pressed(key):\n",
    "            print(\"Iniciando desenho\")\n",
    "            break\n",
    "\n",
    "# tecla de inicio\n",
    "start_key = 'f'\n",
    "\n",
    "wait_for_start_key(start_key)\n",
    "\n",
    "# Coordenadas pyautogui.position()\n",
    "center_x = 490\n",
    "center_y = 508\n",
    "\n",
    "radius = 300  # raio\n",
    "\n",
    "draw_circle(center_x, center_y, radius)\n"
   ]
  },
  {
   "cell_type": "code",
   "execution_count": 4,
   "id": "208e6047",
   "metadata": {},
   "outputs": [
    {
     "name": "stdout",
     "output_type": "stream",
     "text": [
      "Requirement already satisfied: keyboard in c:\\users\\guimo\\anaconda3\\lib\\site-packages (0.13.5)\n",
      "Note: you may need to restart the kernel to use updated packages.\n"
     ]
    }
   ],
   "source": [
    "pip install keyboard"
   ]
  },
  {
   "cell_type": "code",
   "execution_count": 24,
   "id": "856da97b",
   "metadata": {},
   "outputs": [
    {
     "data": {
      "text/plain": [
       "Point(x=1687, y=310)"
      ]
     },
     "execution_count": 24,
     "metadata": {},
     "output_type": "execute_result"
    }
   ],
   "source": [
    "time.sleep(4)\n",
    "pyautogui.position()"
   ]
  }
 ],
 "metadata": {
  "kernelspec": {
   "display_name": "Python 3 (ipykernel)",
   "language": "python",
   "name": "python3"
  },
  "language_info": {
   "codemirror_mode": {
    "name": "ipython",
    "version": 3
   },
   "file_extension": ".py",
   "mimetype": "text/x-python",
   "name": "python",
   "nbconvert_exporter": "python",
   "pygments_lexer": "ipython3",
   "version": "3.10.9"
  }
 },
 "nbformat": 4,
 "nbformat_minor": 5
}
